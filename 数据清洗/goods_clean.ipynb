{
 "cells": [
  {
   "cell_type": "code",
   "execution_count": 25,
   "metadata": {},
   "outputs": [],
   "source": [
    "import pandas as pd\n",
    "# 帮我读取data文件夹里面的商品数据excle文件，然后把数据清洗一下，然后存储到data文件夹里面的goods_clean.csv文件里面去\n",
    "# 1.读取数据\n",
    "df = pd.read_excel(r'data\\商品数据.xlsx')\n",
    "# 2.分析数据的基本情况"
   ]
  },
  {
   "cell_type": "code",
   "execution_count": 26,
   "metadata": {},
   "outputs": [
    {
     "data": {
      "text/html": [
       "<div>\n",
       "<style scoped>\n",
       "    .dataframe tbody tr th:only-of-type {\n",
       "        vertical-align: middle;\n",
       "    }\n",
       "\n",
       "    .dataframe tbody tr th {\n",
       "        vertical-align: top;\n",
       "    }\n",
       "\n",
       "    .dataframe thead th {\n",
       "        text-align: right;\n",
       "    }\n",
       "</style>\n",
       "<table border=\"1\" class=\"dataframe\">\n",
       "  <thead>\n",
       "    <tr style=\"text-align: right;\">\n",
       "      <th></th>\n",
       "      <th>完整度</th>\n",
       "    </tr>\n",
       "  </thead>\n",
       "  <tbody>\n",
       "    <tr>\n",
       "      <th>ID</th>\n",
       "      <td>100.0%</td>\n",
       "    </tr>\n",
       "    <tr>\n",
       "      <th>商品代码</th>\n",
       "      <td>100.0%</td>\n",
       "    </tr>\n",
       "    <tr>\n",
       "      <th>图片</th>\n",
       "      <td>100.0%</td>\n",
       "    </tr>\n",
       "    <tr>\n",
       "      <th>是否统一定价</th>\n",
       "      <td>100.0%</td>\n",
       "    </tr>\n",
       "    <tr>\n",
       "      <th>款式属性</th>\n",
       "      <td>100.0%</td>\n",
       "    </tr>\n",
       "    <tr>\n",
       "      <th>...</th>\n",
       "      <td>...</td>\n",
       "    </tr>\n",
       "    <tr>\n",
       "      <th>主石最大镶嵌分数</th>\n",
       "      <td>0.06%</td>\n",
       "    </tr>\n",
       "    <tr>\n",
       "      <th>表面处理工艺</th>\n",
       "      <td>0.03%</td>\n",
       "    </tr>\n",
       "    <tr>\n",
       "      <th>标签标识LABLE3</th>\n",
       "      <td>0.01%</td>\n",
       "    </tr>\n",
       "    <tr>\n",
       "      <th>标签标识LABLE2</th>\n",
       "      <td>0.0%</td>\n",
       "    </tr>\n",
       "    <tr>\n",
       "      <th>标签标识LABLE1</th>\n",
       "      <td>0.0%</td>\n",
       "    </tr>\n",
       "  </tbody>\n",
       "</table>\n",
       "<p>62 rows × 1 columns</p>\n",
       "</div>"
      ],
      "text/plain": [
       "               完整度\n",
       "ID          100.0%\n",
       "商品代码        100.0%\n",
       "图片          100.0%\n",
       "是否统一定价      100.0%\n",
       "款式属性        100.0%\n",
       "...            ...\n",
       "主石最大镶嵌分数     0.06%\n",
       "表面处理工艺       0.03%\n",
       "标签标识LABLE3   0.01%\n",
       "标签标识LABLE2    0.0%\n",
       "标签标识LABLE1    0.0%\n",
       "\n",
       "[62 rows x 1 columns]"
      ]
     },
     "execution_count": 26,
     "metadata": {},
     "output_type": "execute_result"
    }
   ],
   "source": [
    "# 计算每个字段的缺失值数量\n",
    "missing = df.isna().sum()\n",
    "\n",
    "# 计算每个字段的完整百分比\n",
    "completeness = (1 - missing / len(df)) * 100\n",
    "# 转化为dataframe\n",
    "completeness = pd.DataFrame(completeness, columns=['完整度'])\n",
    "# 按照完成度进行降序排列\n",
    "completeness = completeness.sort_values(by='完整度', ascending=False)\n",
    "# 完整度转化为百分数\n",
    "completeness['完整度'] = completeness['完整度'].apply(lambda x: str(round(x, 2)) + '%')\n",
    "# 保存到本地\n",
    "completeness\n",
    "# Q：可以帮我把这个数据保存到excel吗？\n",
    "# A：可以，但是不建议，因为这个数据是一个表格，而不是一个表格里面的一个sheet\n"
   ]
  },
  {
   "cell_type": "code",
   "execution_count": null,
   "metadata": {},
   "outputs": [],
   "source": []
  }
 ],
 "metadata": {
  "kernelspec": {
   "display_name": "base",
   "language": "python",
   "name": "python3"
  },
  "language_info": {
   "codemirror_mode": {
    "name": "ipython",
    "version": 3
   },
   "file_extension": ".py",
   "mimetype": "text/x-python",
   "name": "python",
   "nbconvert_exporter": "python",
   "pygments_lexer": "ipython3",
   "version": "3.9.13"
  },
  "orig_nbformat": 4
 },
 "nbformat": 4,
 "nbformat_minor": 2
}
